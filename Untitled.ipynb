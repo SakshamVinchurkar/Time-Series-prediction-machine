{
 "cells": [
  {
   "cell_type": "code",
   "execution_count": 3,
   "metadata": {
    "collapsed": false
   },
   "outputs": [
    {
     "name": "stderr",
     "output_type": "stream",
     "text": [
      "/home/saksham/anaconda/lib/python3.5/site-packages/ipykernel/__main__.py:16: DeprecationWarning: Required is going away in WTForms 3.0, use DataRequired\n",
      " * Running on http://127.0.0.1:5000/ (Press CTRL+C to quit)\n",
      " * Restarting with stat\n"
     ]
    },
    {
     "name": "stdout",
     "output_type": "stream",
     "text": [
      "<UnboundField(TextField, ('Name:',), {'validators': [<wtforms.validators.Required object at 0x7f11132389e8>]})>\n"
     ]
    },
    {
     "ename": "SystemExit",
     "evalue": "1",
     "output_type": "error",
     "traceback": [
      "An exception has occurred, use %tb to see the full traceback.\n",
      "\u001b[0;31mSystemExit\u001b[0m\u001b[0;31m:\u001b[0m 1\n"
     ]
    },
    {
     "name": "stderr",
     "output_type": "stream",
     "text": [
      "/home/saksham/anaconda/lib/python3.5/site-packages/IPython/core/interactiveshell.py:2889: UserWarning: To exit: use 'exit', 'quit', or Ctrl-D.\n",
      "  warn(\"To exit: use 'exit', 'quit', or Ctrl-D.\", stacklevel=1)\n"
     ]
    }
   ],
   "source": [
    "from pandas import Series\n",
    "from pandas import DataFrame\n",
    "from pandas import TimeGrouper\n",
    "from matplotlib import pyplot\n",
    "import os.path\n",
    "from flask import Flask, render_template, flash, request\n",
    "from wtforms import Form, TextField, TextAreaField, validators, StringField, SubmitField\n",
    "\n",
    "# App config.\n",
    "DEBUG = True\n",
    "app = Flask(__name__)\n",
    "app.config.from_object(__name__)\n",
    "app.config['SECRET_KEY'] = '7d441f27d441f27567d441f2b6176a'\n",
    " \n",
    "class ReusableForm(Form):\n",
    "    name = TextField('Name:', validators=[validators.required()])\n",
    "    print(name)\n",
    "\n",
    "@app.route(\"/\", methods=['GET', 'POST'])\n",
    "def hello():\n",
    "    form = ReusableForm(request.form)\n",
    " \n",
    "    print (form.errors)\n",
    "    if request.method == 'POST':\n",
    "        name=request.form['name']\n",
    "\n",
    "        series = Series.from_csv('dataset.csv')\n",
    "        print(name,\"kaam ki jagah\")\n",
    "        nb=name\n",
    "        groups = series[name].groupby(TimeGrouper('A'))\n",
    "        years = DataFrame()\n",
    "        pyplot.figure()\n",
    "        i = 1\n",
    "        n_groups = len(groups)\n",
    "        for name, group in groups:\n",
    "            pyplot.subplot((n_groups*100) + 10 + i)\n",
    "            i += 1\n",
    "            pyplot.plot(group)\n",
    "            pyplot.savefig('E:/python/anaconda/Flask/flaskSamples/4-FlaskForms/static/pj.jpg')\n",
    "\n",
    "\n",
    "        #print (name, \" in hello\")\n",
    "    \n",
    "        \n",
    "        if form.validate():\n",
    "            \n",
    "            \n",
    "            # Save the comment here.\n",
    "            flash('this is the graph of the rainfall for the year '+nb )\n",
    "\n",
    "            \n",
    "        else:\n",
    "            flash('Error: Enter some value ')\n",
    " \n",
    "    return render_template('hello.html', form=form)\n",
    " \n",
    "if __name__ == \"__main__\":\n",
    "    app.run()\n",
    "\n",
    "\n"
   ]
  },
  {
   "cell_type": "code",
   "execution_count": 2,
   "metadata": {
    "collapsed": false
   },
   "outputs": [
    {
     "name": "stdout",
     "output_type": "stream",
     "text": [
      "Collecting wtforms\n",
      "  Downloading WTForms-2.1.zip (553kB)\n",
      "\u001b[K    100% |████████████████████████████████| 563kB 575kB/s \n",
      "\u001b[?25hBuilding wheels for collected packages: wtforms\n",
      "  Running setup.py bdist_wheel for wtforms ... \u001b[?25l-\b \b\\\b \b|\b \bdone\n",
      "\u001b[?25h  Stored in directory: /home/saksham/.cache/pip/wheels/36/35/f3/7452cd24daeeaa5ec5b2ea13755316abc94e4e7702de29ba94\n",
      "Successfully built wtforms\n",
      "Installing collected packages: wtforms\n",
      "Successfully installed wtforms-2.1\n"
     ]
    }
   ],
   "source": [
    "!pip install wtforms"
   ]
  },
  {
   "cell_type": "code",
   "execution_count": null,
   "metadata": {
    "collapsed": true
   },
   "outputs": [],
   "source": []
  }
 ],
 "metadata": {
  "anaconda-cloud": {},
  "kernelspec": {
   "display_name": "Python [conda root]",
   "language": "python",
   "name": "conda-root-py"
  },
  "language_info": {
   "codemirror_mode": {
    "name": "ipython",
    "version": 3
   },
   "file_extension": ".py",
   "mimetype": "text/x-python",
   "name": "python",
   "nbconvert_exporter": "python",
   "pygments_lexer": "ipython3",
   "version": "3.5.2"
  }
 },
 "nbformat": 4,
 "nbformat_minor": 1
}
